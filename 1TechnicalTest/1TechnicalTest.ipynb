{
 "cells": [
  {
   "cell_type": "markdown",
   "id": "bf48c03c-895c-4d6a-ac38-64174eb141a7",
   "metadata": {},
   "source": [
    "## Exercises 1\n",
    "##### Implement the \"annograms\" function that uses the WORD.LST file to return anagrams of the word given in the \"word\" parameter.\n",
    "\n",
    "def annograms(word): <br>\n",
    "   #Write your code here. <br>\n",
    "   words = [w.rstrip() for w in open('WORD.LST')]<br>\n",
    "   raise NotImplementedError<br>\n",
    "if __name__ == \"__main__\":<br>\n",
    "   print(annograms(\"train\"))<br>\n",
    "   print('--')<br>\n",
    "   print(annograms('drive'))<br>\n",
    "   print('--')<br>\n",
    "   print(annograms('python'))<br>\n"
   ]
  },
  {
   "cell_type": "code",
   "execution_count": 3,
   "id": "fb18160e-e524-4c8b-b4f7-31b0f329ce18",
   "metadata": {},
   "outputs": [
    {
     "name": "stdout",
     "output_type": "stream",
     "text": [
      "['riant']\n",
      "--\n",
      "['diver', 'rived']\n",
      "--\n",
      "['phyton', 'typhon']\n"
     ]
    }
   ],
   "source": [
    "# Defino una función que toma dos palabras y usando sorted() ordena los caracteres de ambas palabras para comparar si son iguales\n",
    "def anagrams(word1, word2):\n",
    "    return sorted(word1) == sorted(word2)\n",
    "\n",
    "def annograms(word):   \n",
    "    words = [w.strip() for w in open('WORD.LST')]\n",
    "\n",
    "# Filtra las palabras en WORD.LST que son anagramas y excluye las iguales a la word  \n",
    "    find_anagrams = [w for w in words if anagrams(word, w) and w != word]\n",
    "    return find_anagrams\n",
    "\n",
    "if __name__ == \"__main__\":\n",
    "    print(annograms(\"train\"))\n",
    "    print('--')\n",
    "    print(annograms('drive'))\n",
    "    print('--')\n",
    "    print(annograms('python'))"
   ]
  }
 ],
 "metadata": {
  "kernelspec": {
   "display_name": "Python 3 (ipykernel)",
   "language": "python",
   "name": "python3"
  },
  "language_info": {
   "codemirror_mode": {
    "name": "ipython",
    "version": 3
   },
   "file_extension": ".py",
   "mimetype": "text/x-python",
   "name": "python",
   "nbconvert_exporter": "python",
   "pygments_lexer": "ipython3",
   "version": "3.9.13"
  }
 },
 "nbformat": 4,
 "nbformat_minor": 5
}
