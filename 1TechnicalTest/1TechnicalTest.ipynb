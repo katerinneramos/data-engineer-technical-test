{
 "cells": [
  {
   "cell_type": "code",
   "execution_count": 4,
   "id": "449ba75a-78b6-4668-b85d-934a92413b03",
   "metadata": {},
   "outputs": [
    {
     "name": "stdout",
     "output_type": "stream",
     "text": [
      "['riant']\n",
      "--\n",
      "['diver', 'rived']\n",
      "--\n",
      "['phyton', 'typhon']\n"
     ]
    }
   ],
   "source": [
    "#Implement the \"annograms\" function that uses the WORD.LST file to return\n",
    "#anagrams of the word given in the \"word\" parameter.\n",
    "#def annograms(word):\n",
    "#   #Write your code here.\n",
    "#   words = [w.rstrip() for w in open('WORD.LST')]\n",
    "#   raise NotImplementedError\n",
    "\n",
    "#if __name__ == \"__main__\":\n",
    "#   print(annograms(\"train\"))\n",
    "#   print('--')\n",
    "#   print(annograms('drive'))\n",
    "#   print('--')\n",
    "#   print(annograms('python'))\n",
    "\n",
    "# Defino una función que toma dos palabras y usando sorted() ordena los caracteres de ambas palabras para comparar si son iguales\n",
    "def anagrams(word1, word2):\n",
    "    return sorted(word1) == sorted(word2)\n",
    "\n",
    "def annograms(word):   \n",
    "    words = [w.strip() for w in open('WORD.LST')]\n",
    "\n",
    "# Filtra las palabras en WORD.LST que son anagramas y excluye las iguales a la word  \n",
    "    find_anagrams = [w for w in words if anagrams(word, w) and w != word]\n",
    "    return find_anagrams\n",
    "\n",
    "if __name__ == \"__main__\":\n",
    "    print(annograms(\"train\"))\n",
    "    print('--')\n",
    "    print(annograms('drive'))\n",
    "    print('--')\n",
    "    print(annograms('python'))"
   ]
  },
  {
   "cell_type": "code",
   "execution_count": null,
   "id": "fb18160e-e524-4c8b-b4f7-31b0f329ce18",
   "metadata": {},
   "outputs": [],
   "source": []
  }
 ],
 "metadata": {
  "kernelspec": {
   "display_name": "Python 3 (ipykernel)",
   "language": "python",
   "name": "python3"
  },
  "language_info": {
   "codemirror_mode": {
    "name": "ipython",
    "version": 3
   },
   "file_extension": ".py",
   "mimetype": "text/x-python",
   "name": "python",
   "nbconvert_exporter": "python",
   "pygments_lexer": "ipython3",
   "version": "3.9.13"
  }
 },
 "nbformat": 4,
 "nbformat_minor": 5
}
