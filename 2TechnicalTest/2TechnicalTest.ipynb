{
 "cells": [
  {
   "cell_type": "markdown",
   "id": "7a2aae8e-73a4-4d7d-b343-2cd9867a3938",
   "metadata": {},
   "source": [
    "## Exercises 2\n",
    "Bleatrix Trotter the sheep has devised a strategy that helps her fall asleep <br>\n",
    "faster. First, she picks a number N. Then she starts naming N, 2 × N, 3 × N, and <br>\n",
    "so on. Whenever she names a number, she thinks about all of the digits in that <br>\n",
    "number. She keeps track of which digits (0, 1, 2, 3, 4, 5, 6, 7, 8, and 9) she has <br>\n",
    "seen at least once so far as part of any number she has named. Once she has <br>\n",
    "seen each of the ten digits at least once, she will fall asleep. <br>\n",
    "Bleatrix must start with N and must always name (i + 1) × N directly after i × N. <br>\n",
    "For example, suppose that Bleatrix picks N = 1692. She would count as follows: <br>\n",
    "<br>\n",
    "- N = 1692. Now she has seen the digits 1, 2, 6, and 9. <br>\n",
    "- 2N = 3384. Now she has seen the digits 1, 2, 3, 4, 6, 8, and 9. <br>\n",
    "- 3N = 5076. Now she has seen all ten digits, and falls asleep. <br>\n",
    "What is the last number that she will name before falling asleep? If she will <br>\n",
    "count forever, print INSOMNIA instead. <br>\n",
    "<br>\n",
    "##### INPUT <br>\n",
    "The first line of the input gives the number of test cases, T. T test cases follow. <br>\n",
    "Each consists of one line with a single integer N, the number Bleatrix has chosen. <br>\n",
    "<br>\n",
    "##### OUTPUT <br>\n",
    "For each test case, output one line containing Case #x: y, where x is the test <br>\n",
    "case number (starting from 1) and y is the last number that Bleatrix will name <br>\n",
    "before falling asleep, according to the rules described in the statement. <br>\n",
    "<br>\n",
    "##### LIMITS <br>\n",
    "1 ≤ T ≤ 100. <br>\n",
    "##### DATASET <br>\n",
    "0 ≤ N ≤ 200. <br>\n",
    "<br>\n",
    "##### SAMPLE <br>\n",
    "Input <br>\n",
    "5 <br>\n",
    "0 <br>\n",
    "1 <br>\n",
    "2 <br>\n",
    "11 <br>\n",
    "1692 <br>\n",
    "Output <br>\n",
    "Case #1: INSOMNIA <br>\n",
    "Case #2: 10 <br>\n",
    "Case #3: 90 <br>\n",
    "Case #4: 110 <br>\n",
    "Case #5: 5076 <br>\n",
    "<br>\n",
    "- In Case #1, since 2 × 0 = 0, 3 × 0 = 0, and so on, Bleatrix will never see any <br>\n",
    "digit other than 0, and so she will count forever and never fall asleep. Poor sheep! <br>\n",
    "- In Case #2, Bleatrix will name 1, 2, 3, 4, 5, 6, 7, 8, 9, 10. The 0 will be the last <br>\n",
    "digit needed, and so she will fall asleep after 10. <br>\n",
    "- In Case #3, Bleatrix will name 2, 4, 6... and so on. She will not see the digit 9 in <br>\n",
    "any number until 90, at which point she will fall asleep. By that point, she will <br>\n",
    "have already seen the digits 0, 1, 2, 3, 4, 5, 6, 7, and 8, which will have appeared <br>\n",
    "for the first time in the numbers 10, 10, 2, 30, 4, 50, 6, 70, and 8, respectively. <br>\n",
    "- In Case #4, Bleatrix will name 11, 22, 33, 44, 55, 66, 77, 88, 99, 110 and then fall asleep. <br>\n",
    "- Case #5 is the one described in the problem statement. <br>\n",
    "\n"
   ]
  },
  {
   "cell_type": "code",
   "execution_count": 2,
   "id": "aa76488f-cc58-4fd4-bbd4-fb0cd70f76d8",
   "metadata": {},
   "outputs": [
    {
     "name": "stdin",
     "output_type": "stream",
     "text": [
      " 5\n",
      " 0\n"
     ]
    },
    {
     "name": "stdout",
     "output_type": "stream",
     "text": [
      "Case #1: INSOMNIA\n"
     ]
    },
    {
     "name": "stdin",
     "output_type": "stream",
     "text": [
      " 1\n"
     ]
    },
    {
     "name": "stdout",
     "output_type": "stream",
     "text": [
      "Case #2: 10\n"
     ]
    },
    {
     "name": "stdin",
     "output_type": "stream",
     "text": [
      " 2\n"
     ]
    },
    {
     "name": "stdout",
     "output_type": "stream",
     "text": [
      "Case #3: 90\n"
     ]
    },
    {
     "name": "stdin",
     "output_type": "stream",
     "text": [
      " 11\n"
     ]
    },
    {
     "name": "stdout",
     "output_type": "stream",
     "text": [
      "Case #4: 110\n"
     ]
    },
    {
     "name": "stdin",
     "output_type": "stream",
     "text": [
      " 1692\n"
     ]
    },
    {
     "name": "stdout",
     "output_type": "stream",
     "text": [
      "Case #5: 5076\n"
     ]
    }
   ],
   "source": [
    "import sys\n",
    "\n",
    "def find_num(n):\n",
    "    if n == 0:\n",
    "        return \"INSOMNIA\"\n",
    "    \n",
    "    collection = set() #Acá se guardan los numeros como un conjunto único sin ordenar\n",
    "    var = 1\n",
    "    while len(collection) < 10:\n",
    "        num = n * var\n",
    "        collection.update(str(num)) #Añadimos los numeros a la conjunto\n",
    "        var += 1\n",
    "    \n",
    "    return str(num) #Guardamos como cadena\n",
    "\n",
    "v = int(input().strip())\n",
    "\n",
    "for i in range(v):\n",
    "    r = int(input().strip())\n",
    "    result = find_num(r)\n",
    "    print(f\"Case #{i + 1}: {result}\")\n"
   ]
  },
  {
   "cell_type": "code",
   "execution_count": 1,
   "id": "e9caad10-7354-4556-a820-1b3cf076b9b8",
   "metadata": {},
   "outputs": [
    {
     "name": "stdout",
     "output_type": "stream",
     "text": [
      "Case #1: INSOMNIA\n",
      "Case #2: 1\n",
      "Case #3: 2\n",
      "Case #4: 11\n",
      "Case #5: 165\n",
      "Case #6: 8\n",
      "Case #7: 89\n",
      "Case #8: 79\n",
      "Case #9: 4\n",
      "Case #10: 200\n",
      "Case #11: 54\n",
      "Case #12: 50\n",
      "Case #13: 49\n",
      "Case #14: 22\n",
      "Case #15: 12\n",
      "Case #16: 25\n",
      "Case #17: 68\n",
      "Case #18: 5\n",
      "Case #19: 166\n",
      "Case #20: 85\n",
      "Case #21: 184\n",
      "Case #22: 179\n",
      "Case #23: 34\n",
      "Case #24: 29\n",
      "Case #25: 129\n",
      "Case #26: 189\n",
      "Case #27: 113\n",
      "Case #28: 152\n",
      "Case #29: 104\n",
      "Case #30: 137\n",
      "Case #31: 42\n",
      "Case #32: 84\n",
      "Case #33: 158\n",
      "Case #34: 9\n",
      "Case #35: 81\n",
      "Case #36: 163\n",
      "Case #37: 124\n",
      "Case #38: 161\n",
      "Case #39: 39\n",
      "Case #40: 181\n",
      "Case #41: 131\n",
      "Case #42: 6\n",
      "Case #43: 139\n",
      "Case #44: 123\n",
      "Case #45: 171\n",
      "Case #46: 80\n",
      "Case #47: 100\n",
      "Case #48: 24\n",
      "Case #49: 59\n",
      "Case #50: 101\n",
      "Case #51: 19\n",
      "Case #52: 144\n",
      "Case #53: 71\n",
      "Case #54: 21\n",
      "Case #55: 37\n",
      "Case #56: 176\n",
      "Case #57: 188\n",
      "Case #58: 173\n",
      "Case #59: 162\n",
      "Case #60: 103\n",
      "Case #61: 7\n",
      "Case #62: 40\n",
      "Case #63: 88\n",
      "Case #64: 125\n",
      "Case #65: 67\n",
      "Case #66: 53\n",
      "Case #67: 97\n",
      "Case #68: 44\n",
      "Case #69: 51\n",
      "Case #70: 147\n",
      "Case #71: 10\n",
      "Case #72: 186\n",
      "Case #73: 114\n",
      "Case #74: 154\n",
      "Case #75: 3\n",
      "Case #76: 16\n",
      "Case #77: 82\n",
      "Case #78: 142\n",
      "Case #79: 170\n",
      "Case #80: 74\n",
      "Case #81: 196\n",
      "Case #82: 109\n",
      "Case #83: 63\n",
      "Case #84: 140\n",
      "Case #85: 86\n",
      "Case #86: 132\n",
      "Case #87: 33\n",
      "Case #88: 83\n",
      "Case #89: 116\n",
      "Case #90: 195\n",
      "Case #91: 23\n",
      "Case #92: 43\n",
      "Case #93: 90\n",
      "Case #94: 117\n",
      "Case #95: 143\n",
      "Case #96: 28\n",
      "Case #97: 20\n",
      "Case #98: 193\n",
      "Case #99: 102\n",
      "Case #100: 47\n"
     ]
    }
   ],
   "source": [
    "import sys\n",
    "import io\n",
    "\n",
    "def find_num(n):\n",
    "\tif n == 0:\n",
    "\t\treturn \"INSOMNIA\"\n",
    "\tcollection = set()\n",
    "\tvar = 1\n",
    "\twhile len(collection) < 10:\n",
    "            num = n * var\n",
    "            collection.update(str(num))\n",
    "            var += 1\n",
    "        \n",
    "            return str(num)\n",
    "        \n",
    "with open('c-input.in', 'r') as file:\n",
    "    inputSample = file.read()\n",
    "\n",
    "sys.stdin = io.StringIO(inputSample)\n",
    "\n",
    "s = int(sys.stdin.readline().strip())\n",
    "for i in range(s):\n",
    "    r = int(sys.stdin.readline().strip())\n",
    "    result = find_num(r)\n",
    "    print(f\"Case #{i + 1}: {result}\")"
   ]
  },
  {
   "cell_type": "code",
   "execution_count": null,
   "id": "1a62893d-ccd3-4a84-83cc-8ea97c386f50",
   "metadata": {},
   "outputs": [],
   "source": []
  }
 ],
 "metadata": {
  "kernelspec": {
   "display_name": "Python 3 (ipykernel)",
   "language": "python",
   "name": "python3"
  },
  "language_info": {
   "codemirror_mode": {
    "name": "ipython",
    "version": 3
   },
   "file_extension": ".py",
   "mimetype": "text/x-python",
   "name": "python",
   "nbconvert_exporter": "python",
   "pygments_lexer": "ipython3",
   "version": "3.9.13"
  }
 },
 "nbformat": 4,
 "nbformat_minor": 5
}
